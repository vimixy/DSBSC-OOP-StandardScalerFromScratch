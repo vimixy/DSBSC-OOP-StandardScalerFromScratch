{
 "cells": [
  {
   "cell_type": "markdown",
   "metadata": {
    "index": 0
   },
   "source": [
    "# Object Oriented Programming - Practice\n",
    "\n",
    "### Write a Standard Scaler from Scratch!\n",
    "\n",
    "In this notebook, we walk through the process of coding SKLearn's `StandardScaler` class from scratch."
   ]
  },
  {
   "cell_type": "code",
   "execution_count": 1,
   "metadata": {
    "index": 1
   },
   "outputs": [
    {
     "data": {
      "text/html": [
       "<div>\n",
       "<style scoped>\n",
       "    .dataframe tbody tr th:only-of-type {\n",
       "        vertical-align: middle;\n",
       "    }\n",
       "\n",
       "    .dataframe tbody tr th {\n",
       "        vertical-align: top;\n",
       "    }\n",
       "\n",
       "    .dataframe thead th {\n",
       "        text-align: right;\n",
       "    }\n",
       "</style>\n",
       "<table border=\"1\" class=\"dataframe\">\n",
       "  <thead>\n",
       "    <tr style=\"text-align: right;\">\n",
       "      <th></th>\n",
       "      <th>mpg</th>\n",
       "      <th>cylinders</th>\n",
       "      <th>displacement</th>\n",
       "      <th>horsepower</th>\n",
       "      <th>weight</th>\n",
       "      <th>acceleration</th>\n",
       "      <th>model year</th>\n",
       "      <th>origin</th>\n",
       "    </tr>\n",
       "  </thead>\n",
       "  <tbody>\n",
       "    <tr>\n",
       "      <th>0</th>\n",
       "      <td>18.0</td>\n",
       "      <td>8</td>\n",
       "      <td>307.0</td>\n",
       "      <td>130</td>\n",
       "      <td>3504</td>\n",
       "      <td>12.0</td>\n",
       "      <td>70</td>\n",
       "      <td>1</td>\n",
       "    </tr>\n",
       "    <tr>\n",
       "      <th>1</th>\n",
       "      <td>15.0</td>\n",
       "      <td>8</td>\n",
       "      <td>350.0</td>\n",
       "      <td>165</td>\n",
       "      <td>3693</td>\n",
       "      <td>11.5</td>\n",
       "      <td>70</td>\n",
       "      <td>1</td>\n",
       "    </tr>\n",
       "  </tbody>\n",
       "</table>\n",
       "</div>"
      ],
      "text/plain": [
       "    mpg  cylinders  displacement  horsepower  weight  acceleration  \\\n",
       "0  18.0          8         307.0         130    3504          12.0   \n",
       "1  15.0          8         350.0         165    3693          11.5   \n",
       "\n",
       "   model year  origin  \n",
       "0          70       1  \n",
       "1          70       1  "
      ]
     },
     "execution_count": 1,
     "metadata": {},
     "output_type": "execute_result"
    }
   ],
   "source": [
    "# Run this cell unchanged\n",
    "# Import assignment packages\n",
    "import pandas as pd\n",
    "import numpy as np\n",
    "from sklearn.model_selection import train_test_split\n",
    "\n",
    "# Load data\n",
    "df = pd.read_csv('data/auto-mpg.csv')\n",
    "# Let's only use the numeric columns, so drop car name\n",
    "df = df.drop(columns='car name')\n",
    "\n",
    "# Output preview of data\n",
    "df.head(2)"
   ]
  },
  {
   "cell_type": "markdown",
   "metadata": {
    "index": 3
   },
   "source": [
    "**Let's set up a train test split for our dataset**"
   ]
  },
  {
   "cell_type": "code",
   "execution_count": 2,
   "metadata": {
    "index": 4
   },
   "outputs": [],
   "source": [
    "# Run this cell unchanged\n",
    "X = df.drop(columns = 'mpg')\n",
    "y = df['mpg']\n",
    "X_train, X_test, y_train, y_test = train_test_split(X, y, random_state=2022)"
   ]
  },
  {
   "cell_type": "markdown",
   "metadata": {
    "index": 6
   },
   "source": [
    "## Your Task\n",
    "1. Write `fit` and `transform` functions ***outside*** of a class\n",
    "\n",
    "    - We want to get the code working _before_ we throw it into a class\n",
    "    \n",
    "    \n",
    "2. Create a `StandardScaler` class with `fit` and `transform` methods\n",
    "\n",
    "    - We will need to add the `self` variable during this step\n",
    "    \n",
    "    \n",
    "Then we'll compare our results with SKLearn's!"
   ]
  },
  {
   "cell_type": "markdown",
   "metadata": {
    "index": 7
   },
   "source": [
    "### Step 1.1: `fit`"
   ]
  },
  {
   "cell_type": "markdown",
   "metadata": {
    "index": 8
   },
   "source": [
    "In the cell below, let's define a function called `fit`. \n",
    "\n",
    "**This function should receive 1 argument**\n",
    "1. `X` - A pandas dataframe or numpy array\n",
    "\n",
    "**This function should execute the following steps:**\n",
    "1. Convert `X` to a numpy array by passing the input into `np.array`.\n",
    "3. Loop over the columns of the numpy array.\n",
    "4. For each column, calculate the mean and standard deviation\n",
    "5. Store the statistics in the container as a tuple with the following format:\n",
    "```python\n",
    "(mean, standard_deviation)\n",
    "```\n",
    "\n",
    "**This function should not return anything.**"
   ]
  },
  {
   "cell_type": "code",
   "execution_count": 43,
   "metadata": {
    "index": 9
   },
   "outputs": [],
   "source": [
    "container = []\n",
    "\n",
    "def fit(X):\n",
    "    # Convert X to a numpy array by passing the input into np.array\n",
    "    X_array = np.array(X)\n",
    "    # Loop over the columns of the numpy array.\n",
    "    for col in range(X_array.shape[1]):\n",
    "        # For each column, calculate the mean and standard deviation\n",
    "        std = X_array[:, col].std()\n",
    "        mean = X_array[:, col].mean()\n",
    "        # Store the statistics AS A TUPLE in the container\n",
    "        container.append((mean, std))"
   ]
  },
  {
   "cell_type": "markdown",
   "metadata": {
    "index": 14
   },
   "source": [
    "### Step 1.2: `transform`\n",
    "\n",
    "Below we define function called `transform`. \n",
    "\n",
    "**This function should receive 1 argument**\n",
    "1. `X` - Pandas dataframe or numpy array\n",
    "\n",
    "**This function should execute the following steps:**\n",
    "1. Convert X to a numpy array by passing the input into np.array\n",
    "2. Loop over the columns of X\n",
    "3. Access the mean and standard deviation that were created from the `fit` function and stored in the container variable.\n",
    "4. Subtract the mean from the column and divide by the standard deviation.\n",
    "5. Return the transformed version of X"
   ]
  },
  {
   "cell_type": "code",
   "execution_count": 44,
   "metadata": {
    "index": 15
   },
   "outputs": [],
   "source": [
    "def transform(X):\n",
    "    # Convert X to a numpy array by passing the input into np.array\n",
    "    X_array = np.array(X)\n",
    "    # Loop over the columns of X\n",
    "    for col in range(X_array.shape[1]):\n",
    "        # Access the mean and standard deviation that were \n",
    "        # created from the fit function and stored in the container variable.\n",
    "        mean = container[col][0]\n",
    "        std = container[col][1]\n",
    "        # Subtract the mean from the column \n",
    "        # and divide by the standard deviation.\n",
    "        X_array[:, col] = (X_array[:, col] - mean)/std\n",
    "    # Return the transformed version of X  \n",
    "    return X_array"
   ]
  },
  {
   "cell_type": "code",
   "execution_count": 45,
   "metadata": {
    "index": 18
   },
   "outputs": [
    {
     "data": {
      "text/plain": [
       "array([[ 0.26770069, -0.23615776,  0.11344495, -0.33562657, -1.06487141,\n",
       "         1.36364483, -0.71608311],\n",
       "       [ 1.43368591,  1.16941369,  2.76681135,  1.65094965, -0.7298756 ,\n",
       "        -1.60407211, -0.71608311],\n",
       "       [ 1.43368591,  1.48930236,  1.2543925 ,  1.3776006 , -0.7298756 ,\n",
       "        -1.33427966, -0.71608311],\n",
       "       [ 1.43368591,  1.01431615,  0.64411823,  1.54664541, -0.20877101,\n",
       "         0.28447503, -0.71608311],\n",
       "       [-0.89828453, -0.44941688, -0.41722833, -0.40156604,  0.20066831,\n",
       "         0.82405993, -0.71608311]])"
      ]
     },
     "execution_count": 45,
     "metadata": {},
     "output_type": "execute_result"
    }
   ],
   "source": [
    "# Run this cell to try it\n",
    "container = []\n",
    "fit(X_train)\n",
    "X_train_scaled = transform(X_train)\n",
    "X_train_scaled[:5]"
   ]
  },
  {
   "cell_type": "markdown",
   "metadata": {
    "index": 20
   },
   "source": [
    "## Step 2: Move our code into a `StandardScaler` class!\n",
    "\n",
    "Adjust the two functions you wrote above to work as class methods.\n",
    "\n",
    "Note that you'll want to add the `self` argument to your function, before the `X` argument those functions take in. \n",
    "\n",
    "You'll also want to save the container as a `container` attribute of your class."
   ]
  },
  {
   "cell_type": "code",
   "execution_count": 46,
   "metadata": {
    "index": 21
   },
   "outputs": [],
   "source": [
    "class StandardScaler:\n",
    "        \n",
    "    def fit(self, X):\n",
    "        self.container = []\n",
    "        # Convert X to a numpy array by passing the input into np.array\n",
    "        X_array = np.array(X)\n",
    "        # Loop over the columns of the numpy array.\n",
    "        for col in X_array:\n",
    "            # For each column, calculate the mean and standard deviation\n",
    "            std = np.std(col)\n",
    "            mean = np.mean(col)\n",
    "            # Store the statistics AS A TUPLE in the container\n",
    "            container.append((mean, std))\n",
    "        \n",
    "        \n",
    "    def transform(self, X):\n",
    "       # Convert X to a numpy array by passing the input into np.array\n",
    "        X_array = np.array(X)\n",
    "        # Loop over the columns of X\n",
    "        for col in range(X_array.shape[1]):\n",
    "            # Access the mean and standard deviation that were \n",
    "            # created from the fit function and stored in the container variable.\n",
    "            mean = container[col][0]\n",
    "            std = container[col][1]\n",
    "            # Subtract the mean from the column \n",
    "            # and divide by the standard deviation.\n",
    "            X_array[:, col] = (X_array[:, col] - mean)/std\n",
    "        # Return the transformed version of X  \n",
    "        return X_array  "
   ]
  },
  {
   "cell_type": "markdown",
   "metadata": {
    "index": 23
   },
   "source": [
    "## Now, compare our results with SKLearn's scaler!\n",
    "\n",
    "Run the cells below **without changes** to check your work!"
   ]
  },
  {
   "cell_type": "code",
   "execution_count": 47,
   "metadata": {
    "index": 24
   },
   "outputs": [],
   "source": [
    "from sklearn.preprocessing import StandardScaler as SklearnScaler"
   ]
  },
  {
   "cell_type": "code",
   "execution_count": 48,
   "metadata": {
    "index": 26
   },
   "outputs": [],
   "source": [
    "# Create an instance of our scaler\n",
    "our_scaler = StandardScaler()\n",
    "our_scaler.fit(X_train)"
   ]
  },
  {
   "cell_type": "code",
   "execution_count": 49,
   "metadata": {},
   "outputs": [
    {
     "data": {
      "text/plain": [
       "StandardScaler()"
      ]
     },
     "execution_count": 49,
     "metadata": {},
     "output_type": "execute_result"
    }
   ],
   "source": [
    "# Create an instance of sklearn's scaler\n",
    "sk_scaler = SklearnScaler()\n",
    "sk_scaler.fit(X_train)"
   ]
  },
  {
   "cell_type": "code",
   "execution_count": 50,
   "metadata": {
    "index": 28
   },
   "outputs": [],
   "source": [
    "# Scaler train with our scaler\n",
    "our_scaled_train = our_scaler.transform(X_train)\n",
    "sk_scaled_train = sk_scaler.transform(X_train)\n",
    "\n",
    "# Scaler test with our scaler\n",
    "our_scaled_test = our_scaler.transform(X_test)\n",
    "sk_scaled_test = sk_scaler.transform(X_test)"
   ]
  },
  {
   "cell_type": "code",
   "execution_count": 51,
   "metadata": {
    "index": 30
   },
   "outputs": [
    {
     "data": {
      "text/plain": [
       "True"
      ]
     },
     "execution_count": 51,
     "metadata": {},
     "output_type": "execute_result"
    }
   ],
   "source": [
    "# Check if our scaled train is the same as sklearn's\n",
    "np.all(our_scaled_train == sk_scaled_train)"
   ]
  },
  {
   "cell_type": "code",
   "execution_count": 52,
   "metadata": {
    "index": 32
   },
   "outputs": [
    {
     "data": {
      "text/plain": [
       "True"
      ]
     },
     "execution_count": 52,
     "metadata": {},
     "output_type": "execute_result"
    }
   ],
   "source": [
    "# Check if our scaled test is the same as sklearn's\n",
    "np.all(our_scaled_test == sk_scaled_test)"
   ]
  },
  {
   "cell_type": "code",
   "execution_count": null,
   "metadata": {},
   "outputs": [],
   "source": []
  }
 ],
 "metadata": {
  "kernelspec": {
   "display_name": "Python 3",
   "language": "python",
   "name": "python3"
  },
  "language_info": {
   "codemirror_mode": {
    "name": "ipython",
    "version": 3
   },
   "file_extension": ".py",
   "mimetype": "text/x-python",
   "name": "python",
   "nbconvert_exporter": "python",
   "pygments_lexer": "ipython3",
   "version": "3.8.5"
  }
 },
 "nbformat": 4,
 "nbformat_minor": 4
}
